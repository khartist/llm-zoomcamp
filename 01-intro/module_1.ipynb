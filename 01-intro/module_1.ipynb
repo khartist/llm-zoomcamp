{
 "cells": [
  {
   "cell_type": "code",
   "execution_count": 1,
   "id": "2e7e0802-2669-4a70-96c6-b3d50d2b3a73",
   "metadata": {},
   "outputs": [],
   "source": [
    "import openai"
   ]
  },
  {
   "cell_type": "code",
   "execution_count": 2,
   "id": "2c67445f-de33-43c2-a19e-4ac983c9efff",
   "metadata": {},
   "outputs": [],
   "source": [
    "import os"
   ]
  },
  {
   "cell_type": "code",
   "execution_count": 5,
   "id": "7834e413-1e38-4730-b6be-25466162c7ef",
   "metadata": {},
   "outputs": [],
   "source": [
    "api_key = os.environ.get(\"GEMINI_API_KEY\")"
   ]
  },
  {
   "cell_type": "code",
   "execution_count": 7,
   "id": "866d1c29-23b3-47fe-b1fa-5d44af08ff78",
   "metadata": {},
   "outputs": [
    {
     "name": "stdout",
     "output_type": "stream",
     "text": [
      "ChatCompletionMessage(content='Okay, let\\'s break down how Artificial Intelligence (AI) works in a way that\\'s easy to understand, without getting bogged down in overly technical jargon.\\n\\nImagine AI as a **\"smart software brain\"** that learns from experience, just like humans do, but much, much faster and with vast amounts of data.\\n\\nAt its core, AI is about creating systems that can perform tasks that typically require human intelligence, such as:\\n\\n*   **Understanding language**\\n*   **Recognizing patterns**\\n*   **Making decisions**\\n*   **Solving problems**\\n*   **Learning from data**\\n\\n### The Fundamental Components of How AI Works:\\n\\nMost modern AI systems, especially the powerful ones we hear about today, rely heavily on a field called **Machine Learning (ML)** and its subset, **Deep Learning (DL)**.\\n\\n1.  **Data: The Fuel for AI**\\n    *   AI doesn\\'t come pre-programmed with all the answers. It *learns* them.\\n    *   To learn, it needs *data*. Lots and lots of data.\\n    *   **Examples:** Millions of images with labels (\"cat,\" \"dog\"), thousands of hours of speech with transcripts, vast amounts of text, medical records, financial transactions, etc.\\n    *   **Think of it:** Just like a child learns what a dog is by seeing many different dogs and being told \"that\\'s a dog,\" an AI learns by processing countless examples.\\n\\n2.  **Algorithms: The Learning Recipes**\\n    *   Algorithms are essentially the \"rules\" or \"recipes\" that the AI uses to learn from the data. They are mathematical and statistical models.\\n    *   **Think of it:** If data is the ingredients, algorithms are the cooking instructions.\\n    *   **Types of Learning (The Main \"Recipes\"):**\\n        *   **Supervised Learning:** This is the most common. The AI is given *labeled* data (input + correct output). It learns to map inputs to outputs.\\n            *   *Example:* Showing an AI pictures of cats and dogs, with each picture clearly labeled \"cat\" or \"dog.\" The AI learns to predict the label for new, unseen pictures.\\n            *   *Uses:* Image recognition, spam filtering, sentiment analysis, predicting house prices.\\n        *   **Unsupervised Learning:** The AI is given *unlabeled* data and tries to find patterns, structures, or relationships within it on its own.\\n            *   *Example:* Giving an AI a large collection of customer data without telling it what groups exist. The AI might discover natural clusters of customers with similar buying habits.\\n            *   *Uses:* Customer segmentation, anomaly detection, data compression.\\n        *   **Reinforcement Learning:** The AI learns by trial and error, interacting with an environment. It receives \"rewards\" for good actions and \"penalties\" for bad ones.\\n            *   *Example:* Training an AI to play a video game. It gets points (rewards) for moving correctly and penalties for making mistakes. Over time, it learns the optimal strategy.\\n            *   *Uses:* Robotics, game playing (like AlphaGo), autonomous vehicles.\\n\\n3.  **Models: The Trained Brain**\\n    *   Once an AI algorithm has \"learned\" from the data, the result is a **model**.\\n    *   A model is essentially the trained \"brain\" of the AI system. It has absorbed the patterns and relationships from the data during the learning phase (called \"training\").\\n    *   **Think of it:** After a chef has followed a recipe many times and adjusted it, they become an expert. The \"expert chef\" is like the trained model – ready to cook (or make predictions) efficiently.\\n\\n4.  **Inference/Prediction: Putting the Learning to Work**\\n    *   After training, the AI model can be used to make predictions or decisions on *new, unseen data*. This is called \"inference.\"\\n    *   **Example:** You show your trained image recognition AI a new picture it has never seen before. It uses what it learned during training to predict whether it\\'s a \"cat\" or a \"dog.\"\\n    *   **How it works (simplified):** The input data goes through the trained model, which applies the patterns it learned, and outputs a prediction or decision.\\n\\n### Deep Learning: The \"Neural Network\" Revolution\\n\\nDeep Learning is a specialized type of Machine Learning that uses **Artificial Neural Networks (ANNs)**, which are inspired by the structure and function of the human brain.\\n\\n*   **Layers of \"Neurons\":** ANNs consist of multiple layers of interconnected \"nodes\" or \"neurons.\" Each neuron takes inputs, performs a simple calculation, and passes the result to the next layer.\\n*   **Learning Complex Patterns:** Having many layers (hence \"deep\") allows these networks to learn incredibly complex and abstract patterns in data, which is why they excel at things like understanding human language, recognizing objects in images, and generating realistic content.\\n*   **Automatic Feature Extraction:** Unlike traditional ML, where humans often have to manually tell the AI what features to look for (e.g., \"look for edges\" in an image), deep learning networks can automatically discover and learn relevant features from raw data.\\n\\n### Simplified Step-by-Step of an AI System (e.g., Image Recognition):\\n\\n1.  **Gather Data:** Collect millions of images of different objects (cars, trees, people, etc.) and carefully label each one.\\n2.  **Choose Algorithm/Model:** Select a suitable deep learning architecture (like a Convolutional Neural Network, CNN, which is great for images).\\n3.  **Train the Model:** Feed the vast dataset of labeled images into the CNN.\\n    *   The CNN processes the images, making initial guesses about what they are.\\n    *   It compares its guesses to the *actual* labels.\\n    *   If it\\'s wrong, it \"adjusts\" its internal connections (the \"weights\" of the neurons) slightly to reduce the error next time. This adjustment process is repeated billions of times across millions of images.\\n4.  **Evaluate:** After training, test the model on a separate set of images it has *never seen* before to ensure it learned effectively and isn\\'t just memorizing.\\n5.  **Deploy:** Once the model is good enough, integrate it into an application (e.g., a smartphone app that identifies plants from photos).\\n6.  **Infer/Predict:** When you take a photo with the app, the new image is fed into the *trained* model, which quickly processes it and outputs its prediction of what the object is.\\n\\n### In Summary:\\n\\nAI works by **learning from data** using **algorithms** to build **models** that can then **make predictions or decisions** on new information. Modern AI\\'s power largely comes from its ability to process massive amounts of data and discover intricate patterns through techniques like **Deep Learning**, allowing it to mimic and even surpass human capabilities in specific tasks.', refusal=None, role='assistant', annotations=None, audio=None, function_call=None, tool_calls=None)\n"
     ]
    }
   ],
   "source": [
    "from openai import OpenAI\n",
    "\n",
    "client = OpenAI(\n",
    "    api_key=api_key,\n",
    "    base_url=\"https://generativelanguage.googleapis.com/v1beta/openai/\"\n",
    ")\n",
    "\n",
    "response = client.chat.completions.create(\n",
    "    model=\"gemini-2.5-flash\",\n",
    "    messages=[\n",
    "        {\"role\": \"system\", \"content\": \"You are a helpful assistant.\"},\n",
    "        {\n",
    "            \"role\": \"user\",\n",
    "            \"content\": \"Explain to me how AI works\"\n",
    "        }\n",
    "    ]\n",
    ")"
   ]
  },
  {
   "cell_type": "code",
   "execution_count": 8,
   "id": "7f22ed8f-086b-4710-b333-3373e5fe3852",
   "metadata": {},
   "outputs": [
    {
     "name": "stdout",
     "output_type": "stream",
     "text": [
      "Okay, let's break down how Artificial Intelligence (AI) works in a way that's easy to understand, without getting bogged down in overly technical jargon.\n",
      "\n",
      "Imagine AI as a **\"smart software brain\"** that learns from experience, just like humans do, but much, much faster and with vast amounts of data.\n",
      "\n",
      "At its core, AI is about creating systems that can perform tasks that typically require human intelligence, such as:\n",
      "\n",
      "*   **Understanding language**\n",
      "*   **Recognizing patterns**\n",
      "*   **Making decisions**\n",
      "*   **Solving problems**\n",
      "*   **Learning from data**\n",
      "\n",
      "### The Fundamental Components of How AI Works:\n",
      "\n",
      "Most modern AI systems, especially the powerful ones we hear about today, rely heavily on a field called **Machine Learning (ML)** and its subset, **Deep Learning (DL)**.\n",
      "\n",
      "1.  **Data: The Fuel for AI**\n",
      "    *   AI doesn't come pre-programmed with all the answers. It *learns* them.\n",
      "    *   To learn, it needs *data*. Lots and lots of data.\n",
      "    *   **Examples:** Millions of images with labels (\"cat,\" \"dog\"), thousands of hours of speech with transcripts, vast amounts of text, medical records, financial transactions, etc.\n",
      "    *   **Think of it:** Just like a child learns what a dog is by seeing many different dogs and being told \"that's a dog,\" an AI learns by processing countless examples.\n",
      "\n",
      "2.  **Algorithms: The Learning Recipes**\n",
      "    *   Algorithms are essentially the \"rules\" or \"recipes\" that the AI uses to learn from the data. They are mathematical and statistical models.\n",
      "    *   **Think of it:** If data is the ingredients, algorithms are the cooking instructions.\n",
      "    *   **Types of Learning (The Main \"Recipes\"):**\n",
      "        *   **Supervised Learning:** This is the most common. The AI is given *labeled* data (input + correct output). It learns to map inputs to outputs.\n",
      "            *   *Example:* Showing an AI pictures of cats and dogs, with each picture clearly labeled \"cat\" or \"dog.\" The AI learns to predict the label for new, unseen pictures.\n",
      "            *   *Uses:* Image recognition, spam filtering, sentiment analysis, predicting house prices.\n",
      "        *   **Unsupervised Learning:** The AI is given *unlabeled* data and tries to find patterns, structures, or relationships within it on its own.\n",
      "            *   *Example:* Giving an AI a large collection of customer data without telling it what groups exist. The AI might discover natural clusters of customers with similar buying habits.\n",
      "            *   *Uses:* Customer segmentation, anomaly detection, data compression.\n",
      "        *   **Reinforcement Learning:** The AI learns by trial and error, interacting with an environment. It receives \"rewards\" for good actions and \"penalties\" for bad ones.\n",
      "            *   *Example:* Training an AI to play a video game. It gets points (rewards) for moving correctly and penalties for making mistakes. Over time, it learns the optimal strategy.\n",
      "            *   *Uses:* Robotics, game playing (like AlphaGo), autonomous vehicles.\n",
      "\n",
      "3.  **Models: The Trained Brain**\n",
      "    *   Once an AI algorithm has \"learned\" from the data, the result is a **model**.\n",
      "    *   A model is essentially the trained \"brain\" of the AI system. It has absorbed the patterns and relationships from the data during the learning phase (called \"training\").\n",
      "    *   **Think of it:** After a chef has followed a recipe many times and adjusted it, they become an expert. The \"expert chef\" is like the trained model – ready to cook (or make predictions) efficiently.\n",
      "\n",
      "4.  **Inference/Prediction: Putting the Learning to Work**\n",
      "    *   After training, the AI model can be used to make predictions or decisions on *new, unseen data*. This is called \"inference.\"\n",
      "    *   **Example:** You show your trained image recognition AI a new picture it has never seen before. It uses what it learned during training to predict whether it's a \"cat\" or a \"dog.\"\n",
      "    *   **How it works (simplified):** The input data goes through the trained model, which applies the patterns it learned, and outputs a prediction or decision.\n",
      "\n",
      "### Deep Learning: The \"Neural Network\" Revolution\n",
      "\n",
      "Deep Learning is a specialized type of Machine Learning that uses **Artificial Neural Networks (ANNs)**, which are inspired by the structure and function of the human brain.\n",
      "\n",
      "*   **Layers of \"Neurons\":** ANNs consist of multiple layers of interconnected \"nodes\" or \"neurons.\" Each neuron takes inputs, performs a simple calculation, and passes the result to the next layer.\n",
      "*   **Learning Complex Patterns:** Having many layers (hence \"deep\") allows these networks to learn incredibly complex and abstract patterns in data, which is why they excel at things like understanding human language, recognizing objects in images, and generating realistic content.\n",
      "*   **Automatic Feature Extraction:** Unlike traditional ML, where humans often have to manually tell the AI what features to look for (e.g., \"look for edges\" in an image), deep learning networks can automatically discover and learn relevant features from raw data.\n",
      "\n",
      "### Simplified Step-by-Step of an AI System (e.g., Image Recognition):\n",
      "\n",
      "1.  **Gather Data:** Collect millions of images of different objects (cars, trees, people, etc.) and carefully label each one.\n",
      "2.  **Choose Algorithm/Model:** Select a suitable deep learning architecture (like a Convolutional Neural Network, CNN, which is great for images).\n",
      "3.  **Train the Model:** Feed the vast dataset of labeled images into the CNN.\n",
      "    *   The CNN processes the images, making initial guesses about what they are.\n",
      "    *   It compares its guesses to the *actual* labels.\n",
      "    *   If it's wrong, it \"adjusts\" its internal connections (the \"weights\" of the neurons) slightly to reduce the error next time. This adjustment process is repeated billions of times across millions of images.\n",
      "4.  **Evaluate:** After training, test the model on a separate set of images it has *never seen* before to ensure it learned effectively and isn't just memorizing.\n",
      "5.  **Deploy:** Once the model is good enough, integrate it into an application (e.g., a smartphone app that identifies plants from photos).\n",
      "6.  **Infer/Predict:** When you take a photo with the app, the new image is fed into the *trained* model, which quickly processes it and outputs its prediction of what the object is.\n",
      "\n",
      "### In Summary:\n",
      "\n",
      "AI works by **learning from data** using **algorithms** to build **models** that can then **make predictions or decisions** on new information. Modern AI's power largely comes from its ability to process massive amounts of data and discover intricate patterns through techniques like **Deep Learning**, allowing it to mimic and even surpass human capabilities in specific tasks.\n"
     ]
    }
   ],
   "source": [
    "print(response.choices[0].message.content)"
   ]
  },
  {
   "cell_type": "code",
   "execution_count": null,
   "id": "f98c1685-4c4d-4f1b-8a71-aa5a389e1ada",
   "metadata": {},
   "outputs": [],
   "source": []
  }
 ],
 "metadata": {
  "kernelspec": {
   "display_name": "Python 3 (ipykernel)",
   "language": "python",
   "name": "python3"
  },
  "language_info": {
   "codemirror_mode": {
    "name": "ipython",
    "version": 3
   },
   "file_extension": ".py",
   "mimetype": "text/x-python",
   "name": "python",
   "nbconvert_exporter": "python",
   "pygments_lexer": "ipython3",
   "version": "3.12.1"
  }
 },
 "nbformat": 4,
 "nbformat_minor": 5
}
